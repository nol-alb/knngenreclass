{
 "cells": [
  {
   "cell_type": "code",
   "execution_count": 15,
   "id": "60756595",
   "metadata": {},
   "outputs": [],
   "source": [
    "import numpy as np\n",
    "import scipy as sp"
   ]
  },
  {
   "cell_type": "markdown",
   "id": "1c6d60af",
   "metadata": {},
   "source": [
    "# Helper Functions"
   ]
  },
  {
   "cell_type": "code",
   "execution_count": 16,
   "id": "bac2d9c7",
   "metadata": {},
   "outputs": [],
   "source": [
    "def get_classes(labels):\n",
    "    # Post data cleaning \n",
    "    return np.unique(labels).astype(int)"
   ]
  },
  {
   "cell_type": "code",
   "execution_count": 17,
   "id": "76ef46ed",
   "metadata": {},
   "outputs": [],
   "source": [
    "def euc(vector, matrix):\n",
    "    d = np.sum((vector - matrix)**2, axis = 1, keepdims = True)\n",
    "    return np.sqrt(d.T)"
   ]
  },
  {
   "cell_type": "code",
   "execution_count": 18,
   "id": "943ef75b",
   "metadata": {},
   "outputs": [],
   "source": [
    "def pairwise_distance(test_data, train_data):\n",
    "    d = np.zeros((test_data.shape[1], train_data.shape[1]))\n",
    "    for i,v in enumerate(test_data.T):\n",
    "        d[i,:] = euc(v,train_data.T)\n",
    "    return d"
   ]
  },
  {
   "cell_type": "code",
   "execution_count": 19,
   "id": "3dede127",
   "metadata": {},
   "outputs": [],
   "source": [
    "def infer_class (closeness, data_labels, classes):\n",
    "    \n",
    "    # first, try to do a simple majority vote\n",
    "    #res_class = sp.stats.mode(class_labels, axis = 0)\n",
    "    hist = np.histogram(data_labels, bins = len(classes), range = (min(classes), \n",
    "max(classes)))\n",
    " \n",
    "    # check if we have a clear majority\n",
    "    s = np.flip(np.sort(hist[0]))\n",
    "    # if not, do a histgram weighted with the closeness\n",
    "    if s[0] == s[1]:\n",
    "        hist = np.histogram(data_labels, bins = len(classes), range = \n",
    "(min(classes), max(classes)), weights = closeness)\n",
    " \n",
    "    return classes[np.argmax(hist[0])]"
   ]
  },
  {
   "cell_type": "code",
   "execution_count": 33,
   "id": "6be31565",
   "metadata": {},
   "outputs": [],
   "source": [
    "def comp_confmat(gt, est, class_indices):\n",
    "    conf_mat = np.zeros((len(class_indices), len(class_indices)))\n",
    "    for i,row in enumerate(gt):\n",
    "        conf_mat[row-class_indices[0],est[i]-class_indices[0]] += 1\n",
    "    return conf_mat.astype(int)"
   ]
  },
  {
   "cell_type": "code",
   "execution_count": 36,
   "id": "1c022fc0",
   "metadata": {},
   "outputs": [],
   "source": [
    "def eval(gt, est, class_indices):\n",
    "    # compute confusion matrix\n",
    "    conf_mat = comp_confmat(gt, est, class_indices)\n",
    "    accuracy = np.trace(conf_mat)/len(gt)\n",
    "    return (accuracy, conf_mat)"
   ]
  },
  {
   "cell_type": "code",
   "execution_count": 37,
   "id": "98c05d91",
   "metadata": {},
   "outputs": [],
   "source": [
    "def find_best_features_with_accuracy(data, labels, k, num_folds, sel_features = \n",
    "[]):\n",
    "    accuracy = np.zeros(data.shape[0])\n",
    "    for f,feature_value in enumerate(data):\n",
    "        if len(sel_features) > 0:\n",
    "            if np.where(sel_features == f)[0].size > 0: # replace with np.isin\n",
    "                continue\n",
    "        [accuracy[f], dummy, dummy] = cross_validate(np.vstack((feature_value, \n",
    "data[sel_features,:])), labels, k, num_folds)\n",
    "    return (np.argmax(accuracy).astype(int), np.max(accuracy))"
   ]
  },
  {
   "cell_type": "code",
   "execution_count": 42,
   "id": "4433f6a9",
   "metadata": {},
   "outputs": [],
   "source": [
    "def split_data (gt_labels, num_folds, classes):\n",
    "    num_obs = np.zeros(len(classes))\n",
    "    for k,c in enumerate(classes):\n",
    "        num_obs[k] = int(len(gt_labels[gt_labels == c]))\n",
    "    num_obs = num_obs.astype(int)\n",
    "    last = np.zeros(len(classes)).astype(int)\n",
    "    data_ind = [ [] for _ in range(num_folds)] \n",
    "    for f in range(num_folds):\n",
    "        for k,c in enumerate(classes):\n",
    "            num = int(np.floor(num_obs[k]/num_folds))\n",
    "            data_ind[f] = data_ind[f] + np.argwhere(gt_labels == c)[np.arange(last[k],last[k]+num)].astype(int).tolist()\n",
    "            last[k] +=num\n",
    "    for k,c in enumerate(classes):\n",
    "        if num_obs[k]-last[k] > 0:\n",
    "            data_ind[num_folds-1] = data_ind[num_folds-1] + np.argwhere(gt_labels \n",
    "== c)[last[k]:num_obs[k]].astype(int).tolist()\n",
    "    for f in range(num_folds):\n",
    "        data_ind[f] = np.ravel(data_ind[f])\n",
    "    return data_ind"
   ]
  },
  {
   "cell_type": "code",
   "execution_count": 20,
   "id": "64eadada",
   "metadata": {},
   "outputs": [],
   "source": [
    "def knearestneighbor(test_data, train_data, train_label, k=1):\n",
    "    num_features = test_data.shape[0]\n",
    "    classes = np.unique(train_label).astype(int)\n",
    "    est_class = -1*np.ones(test_data.shape[1])\n",
    "    d = pairwise_distance(test_data, train_data)\n",
    "    ind = np.argsort(d, axis = 1).astype(int)\n",
    "    ind = ind[:,range(k)]\n",
    "    ma = np.amax(d)\n",
    "    if ma <= 0:\n",
    "        ma = 1\n",
    "    d = 1-d/ma\n",
    "    for obs,index in enumerate(ind):\n",
    "        est_class[obs] = infer_class (d[obs,index], train_label[index], classes)\n",
    "    return np.squeeze(est_class.astype(int))"
   ]
  },
  {
   "cell_type": "code",
   "execution_count": 38,
   "id": "ac209122",
   "metadata": {},
   "outputs": [],
   "source": [
    "def cross_validate(data, labels, k, num_folds):\n",
    "    # init result\n",
    "    classes = get_classes(labels)\n",
    "    fold_accuracies = np.zeros(num_folds)\n",
    "    conf_mat = np.zeros((num_folds, len(classes), len(classes))) \n",
    "    # split data\n",
    "    fold_ind = split_data(labels, num_folds, classes)\n",
    "    # do classification for each fold\n",
    "    for n in range(num_folds):\n",
    "        train_data = np.zeros((data.shape[0],0))\n",
    "        train_label = np.zeros(0)\n",
    "        #split train and testdata\n",
    "        for i,train in enumerate(fold_ind):\n",
    "            if i == n:\n",
    "                test_data = data[:,np.squeeze(fold_ind[n])]\n",
    "                test_label = labels[np.squeeze(fold_ind[i])].astype(int)\n",
    "                continue\n",
    "            train_data = np.hstack((train_data, data[:, fold_ind[i]]))\n",
    "            train_label = np.append(train_label, labels[fold_ind[i]])\n",
    "        # classify\n",
    "        est_label = knearestneighbor(test_data, train_data, train_label, k)\n",
    "        # evaluate result\n",
    "        [fold_accuracies[n], conf_mat[n,:,:]] = eval(test_label, est_label, \n",
    "classes)\n",
    "    \n",
    "    avg_accuracy = np.mean(fold_accuracies)\n",
    "    conf_mat = np.sum(conf_mat,axis=0)\n",
    "    return (avg_accuracy, fold_accuracies, conf_mat)\n",
    "    "
   ]
  },
  {
   "cell_type": "code",
   "execution_count": 39,
   "id": "3fd58df7",
   "metadata": {},
   "outputs": [],
   "source": [
    "def select_features(data, labels, k, num_folds):\n",
    "    sel_feature_ind = -1*np.ones(data.shape[0]).astype(int)\n",
    "    accuracy =  np.zeros(data.shape[0])\n",
    "    for f in range(data.shape[0]):\n",
    "        [sel_feature_ind[f], accuracy[f]] = find_best_features_with_accuracy(data, \n",
    "labels, k, num_folds, sel_feature_ind[range(f)])\n",
    "    return (sel_feature_ind, accuracy)\n"
   ]
  },
  {
   "cell_type": "code",
   "execution_count": 41,
   "id": "ef1f9585",
   "metadata": {},
   "outputs": [],
   "source": [
    "def evaluate(data, labels, num_folds = 10, k = np.array([1,3,7]), sel_features = \n",
    "np.array([0,1,2,3,4,5,6,7,9])):\n",
    "    \n",
    "    # init result\n",
    "    classes = get_classes(labels)\n",
    "    accuracies = np.zeros(len(k)) \n",
    "    conf_matrices = np.zeros((len(k), len(classes), len(classes)))\n",
    "    # run the cross val with the different k values\n",
    "    for n in range(len(k)):\n",
    "        [accuracies[n], _, conf_matrices[n]] = cross_validate(data[sel_features,:],\n",
    "labels, k[n], num_folds)\n",
    "    return (accuracies, conf_matrices)"
   ]
  },
  {
   "cell_type": "code",
   "execution_count": 43,
   "id": "534a2fcc",
   "metadata": {},
   "outputs": [],
   "source": [
    "def find_best_features(data, labels, k, num_folds):\n",
    "    [index, acc] = find_best_features_with_accuracy(data, labels, k, num_folds)\n",
    "    return index"
   ]
  },
  {
   "cell_type": "code",
   "execution_count": 45,
   "id": "c5dec7f4",
   "metadata": {},
   "outputs": [],
   "source": [
    "labels = np.loadtxt('/Users/noelalben/Downloads/data/labels.txt')"
   ]
  },
  {
   "cell_type": "code",
   "execution_count": 48,
   "id": "940b82d1",
   "metadata": {},
   "outputs": [],
   "source": [
    "\n",
    "classes = np.unique(labels)"
   ]
  },
  {
   "cell_type": "code",
   "execution_count": 50,
   "id": "64c61224",
   "metadata": {},
   "outputs": [
    {
     "name": "stdout",
     "output_type": "stream",
     "text": [
      "100\n",
      "100\n",
      "100\n",
      "100\n",
      "100\n"
     ]
    }
   ],
   "source": [
    "for c in classes:\n",
    "    print(len(labels[labels==c]))"
   ]
  },
  {
   "cell_type": "code",
   "execution_count": null,
   "id": "efdca238",
   "metadata": {},
   "outputs": [],
   "source": []
  }
 ],
 "metadata": {
  "kernelspec": {
   "display_name": "Python 3 (ipykernel)",
   "language": "python",
   "name": "python3"
  },
  "language_info": {
   "codemirror_mode": {
    "name": "ipython",
    "version": 3
   },
   "file_extension": ".py",
   "mimetype": "text/x-python",
   "name": "python",
   "nbconvert_exporter": "python",
   "pygments_lexer": "ipython3",
   "version": "3.9.7"
  }
 },
 "nbformat": 4,
 "nbformat_minor": 5
}
